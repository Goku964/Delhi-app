{
 "cells": [
  {
   "cell_type": "code",
   "execution_count": 1,
   "metadata": {},
   "outputs": [],
   "source": [
    "import pandas as pd\n",
    "import numpy as np"
   ]
  },
  {
   "cell_type": "markdown",
   "metadata": {},
   "source": [
    "# Read Data"
   ]
  },
  {
   "cell_type": "code",
   "execution_count": 5,
   "metadata": {},
   "outputs": [
    {
     "data": {
      "text/html": [
       "<div>\n",
       "<style scoped>\n",
       "    .dataframe tbody tr th:only-of-type {\n",
       "        vertical-align: middle;\n",
       "    }\n",
       "\n",
       "    .dataframe tbody tr th {\n",
       "        vertical-align: top;\n",
       "    }\n",
       "\n",
       "    .dataframe thead th {\n",
       "        text-align: right;\n",
       "    }\n",
       "</style>\n",
       "<table border=\"1\" class=\"dataframe\">\n",
       "  <thead>\n",
       "    <tr style=\"text-align: right;\">\n",
       "      <th></th>\n",
       "      <th>pm25</th>\n",
       "    </tr>\n",
       "    <tr>\n",
       "      <th>date</th>\n",
       "      <th></th>\n",
       "    </tr>\n",
       "  </thead>\n",
       "  <tbody>\n",
       "    <tr>\n",
       "      <th>2018-01-01 00:00:00</th>\n",
       "      <td>423.0</td>\n",
       "    </tr>\n",
       "    <tr>\n",
       "      <th>2018-01-01 01:00:00</th>\n",
       "      <td>414.0</td>\n",
       "    </tr>\n",
       "    <tr>\n",
       "      <th>2018-01-01 02:00:00</th>\n",
       "      <td>417.0</td>\n",
       "    </tr>\n",
       "    <tr>\n",
       "      <th>2018-01-01 03:00:00</th>\n",
       "      <td>466.0</td>\n",
       "    </tr>\n",
       "    <tr>\n",
       "      <th>2018-01-01 04:00:00</th>\n",
       "      <td>470.0</td>\n",
       "    </tr>\n",
       "  </tbody>\n",
       "</table>\n",
       "</div>"
      ],
      "text/plain": [
       "                      pm25\n",
       "date                      \n",
       "2018-01-01 00:00:00  423.0\n",
       "2018-01-01 01:00:00  414.0\n",
       "2018-01-01 02:00:00  417.0\n",
       "2018-01-01 03:00:00  466.0\n",
       "2018-01-01 04:00:00  470.0"
      ]
     },
     "execution_count": 5,
     "metadata": {},
     "output_type": "execute_result"
    }
   ],
   "source": [
    "df = pd.read_excel(\"D:/New folder/Delhi1.xlsx\",index_col=[0], parse_dates=[0],skiprows=2)\n",
    "## reading a xlsx file using pandas library\n",
    "df['pm25']=pd.to_numeric(df['pm25'],errors='coerce')\n",
    "df.sort_values(by=['date'],ascending=True,inplace=True)\n",
    "rolling_airquality=df['pm25'].fillna(df.pm25.rolling(36,min_periods=1).mean(),inplace=True)\n",
    "\n",
    "df.head()"
   ]
  },
  {
   "cell_type": "markdown",
   "metadata": {},
   "source": [
    "# Check For Stationarity"
   ]
  },
  {
   "cell_type": "code",
   "execution_count": 6,
   "metadata": {},
   "outputs": [],
   "source": [
    "from statsmodels.tsa.stattools import adfuller\n",
    "\n",
    "def adf_test(dataset):\n",
    "  dftest = adfuller(dataset, autolag = 'AIC')\n",
    "  print(\"1. ADF : \",dftest[0])\n",
    "  print(\"2. P-Value : \", dftest[1])\n",
    "  print(\"3. Num Of Lags : \", dftest[2])\n",
    "  print(\"4. Num Of Observations Used For ADF Regression and Critical Values Calculation :\", dftest[3])\n",
    "  print(\"5. Critical Values :\")\n",
    "  for key, val in dftest[4].items():\n",
    "      print(\"\\t\",key, \": \", val)"
   ]
  },
  {
   "cell_type": "code",
   "execution_count": 7,
   "metadata": {},
   "outputs": [
    {
     "name": "stdout",
     "output_type": "stream",
     "text": [
      "1. ADF :  -3.4809079850259974\n",
      "2. P-Value :  0.008491170927087628\n",
      "3. Num Of Lags :  27\n",
      "4. Num Of Observations Used For ADF Regression and Critical Values Calculation : 2346\n",
      "5. Critical Values :\n",
      "\t 1% :  -3.433140481496303\n",
      "\t 5% :  -2.862772784334684\n",
      "\t 10% :  -2.567426264858143\n"
     ]
    }
   ],
   "source": [
    "adf_test(df)"
   ]
  },
  {
   "cell_type": "markdown",
   "metadata": {},
   "source": [
    "# Split Data into Training and Testing"
   ]
  },
  {
   "cell_type": "code",
   "execution_count": 9,
   "metadata": {},
   "outputs": [
    {
     "name": "stdout",
     "output_type": "stream",
     "text": [
      "(2374, 1)\n",
      "(2074, 1) (300, 1)\n",
      "pm25    185.0\n",
      "Name: 2018-04-04 23:00:00, dtype: float64 pm25    92.0\n",
      "Name: 2018-04-20 00:00:00, dtype: float64\n"
     ]
    }
   ],
   "source": [
    "print(df.shape)\n",
    "train=df.iloc[:-300]\n",
    "test=df.iloc[-300:]\n",
    "print(train.shape,test.shape)\n",
    "print(test.iloc[0],test.iloc[-1])"
   ]
  },
  {
   "cell_type": "markdown",
   "metadata": {},
   "source": [
    "# Train the Model"
   ]
  },
  {
   "cell_type": "code",
   "execution_count": 10,
   "metadata": {},
   "outputs": [
    {
     "name": "stderr",
     "output_type": "stream",
     "text": [
      "D:\\Anaconda3\\lib\\site-packages\\statsmodels\\tsa\\arima_model.py:472: FutureWarning: \n",
      "statsmodels.tsa.arima_model.ARMA and statsmodels.tsa.arima_model.ARIMA have\n",
      "been deprecated in favor of statsmodels.tsa.arima.model.ARIMA (note the .\n",
      "between arima and model) and\n",
      "statsmodels.tsa.SARIMAX. These will be removed after the 0.12 release.\n",
      "\n",
      "statsmodels.tsa.arima.model.ARIMA makes use of the statespace framework and\n",
      "is both well tested and maintained.\n",
      "\n",
      "To silence this warning and continue using ARMA and ARIMA until they are\n",
      "removed, use:\n",
      "\n",
      "import warnings\n",
      "warnings.filterwarnings('ignore', 'statsmodels.tsa.arima_model.ARMA',\n",
      "                        FutureWarning)\n",
      "warnings.filterwarnings('ignore', 'statsmodels.tsa.arima_model.ARIMA',\n",
      "                        FutureWarning)\n",
      "\n",
      "  warnings.warn(ARIMA_DEPRECATION_WARN, FutureWarning)\n",
      "D:\\Anaconda3\\lib\\site-packages\\statsmodels\\tsa\\base\\tsa_model.py:581: ValueWarning: A date index has been provided, but it has no associated frequency information and so will be ignored when e.g. forecasting.\n",
      "  warnings.warn('A date index has been provided, but it has no'\n",
      "D:\\Anaconda3\\lib\\site-packages\\statsmodels\\tsa\\base\\tsa_model.py:581: ValueWarning: A date index has been provided, but it has no associated frequency information and so will be ignored when e.g. forecasting.\n",
      "  warnings.warn('A date index has been provided, but it has no'\n",
      "D:\\Anaconda3\\lib\\site-packages\\statsmodels\\base\\model.py:547: HessianInversionWarning: Inverting hessian failed, no bse or cov_params available\n",
      "  warnings.warn('Inverting hessian failed, no bse or cov_params '\n",
      "D:\\Anaconda3\\lib\\site-packages\\statsmodels\\tsa\\arima_model.py:472: FutureWarning: \n",
      "statsmodels.tsa.arima_model.ARMA and statsmodels.tsa.arima_model.ARIMA have\n",
      "been deprecated in favor of statsmodels.tsa.arima.model.ARIMA (note the .\n",
      "between arima and model) and\n",
      "statsmodels.tsa.SARIMAX. These will be removed after the 0.12 release.\n",
      "\n",
      "statsmodels.tsa.arima.model.ARIMA makes use of the statespace framework and\n",
      "is both well tested and maintained.\n",
      "\n",
      "To silence this warning and continue using ARMA and ARIMA until they are\n",
      "removed, use:\n",
      "\n",
      "import warnings\n",
      "warnings.filterwarnings('ignore', 'statsmodels.tsa.arima_model.ARMA',\n",
      "                        FutureWarning)\n",
      "warnings.filterwarnings('ignore', 'statsmodels.tsa.arima_model.ARIMA',\n",
      "                        FutureWarning)\n",
      "\n",
      "  warnings.warn(ARIMA_DEPRECATION_WARN, FutureWarning)\n"
     ]
    },
    {
     "data": {
      "text/html": [
       "<table class=\"simpletable\">\n",
       "<caption>ARIMA Model Results</caption>\n",
       "<tr>\n",
       "  <th>Dep. Variable:</th>      <td>D.pm25</td>      <th>  No. Observations:  </th>    <td>2073</td>   \n",
       "</tr>\n",
       "<tr>\n",
       "  <th>Model:</th>          <td>ARIMA(6, 1, 6)</td>  <th>  Log Likelihood     </th> <td>-11048.902</td>\n",
       "</tr>\n",
       "<tr>\n",
       "  <th>Method:</th>             <td>css-mle</td>     <th>  S.D. of innovations</th>   <td>49.907</td>  \n",
       "</tr>\n",
       "<tr>\n",
       "  <th>Date:</th>          <td>Sat, 01 May 2021</td> <th>  AIC                </th>  <td>22125.805</td>\n",
       "</tr>\n",
       "<tr>\n",
       "  <th>Time:</th>              <td>13:58:09</td>     <th>  BIC                </th>  <td>22204.720</td>\n",
       "</tr>\n",
       "<tr>\n",
       "  <th>Sample:</th>                <td>1</td>        <th>  HQIC               </th>  <td>22154.728</td>\n",
       "</tr>\n",
       "<tr>\n",
       "  <th></th>                       <td> </td>        <th>                     </th>      <td> </td>    \n",
       "</tr>\n",
       "</table>\n",
       "<table class=\"simpletable\">\n",
       "<tr>\n",
       "        <td></td>          <th>coef</th>     <th>std err</th>      <th>z</th>      <th>P>|z|</th>  <th>[0.025</th>    <th>0.975]</th>  \n",
       "</tr>\n",
       "<tr>\n",
       "  <th>const</th>        <td>   -0.1185</td> <td>    0.136</td> <td>   -0.870</td> <td> 0.384</td> <td>   -0.385</td> <td>    0.148</td>\n",
       "</tr>\n",
       "<tr>\n",
       "  <th>ar.L1.D.pm25</th> <td>    2.2336</td> <td>    0.162</td> <td>   13.782</td> <td> 0.000</td> <td>    1.916</td> <td>    2.551</td>\n",
       "</tr>\n",
       "<tr>\n",
       "  <th>ar.L2.D.pm25</th> <td>   -1.4576</td> <td>    0.306</td> <td>   -4.766</td> <td> 0.000</td> <td>   -2.057</td> <td>   -0.858</td>\n",
       "</tr>\n",
       "<tr>\n",
       "  <th>ar.L3.D.pm25</th> <td>   -0.1478</td> <td>    0.260</td> <td>   -0.569</td> <td> 0.570</td> <td>   -0.657</td> <td>    0.362</td>\n",
       "</tr>\n",
       "<tr>\n",
       "  <th>ar.L4.D.pm25</th> <td>    0.6549</td> <td>    0.277</td> <td>    2.367</td> <td> 0.018</td> <td>    0.113</td> <td>    1.197</td>\n",
       "</tr>\n",
       "<tr>\n",
       "  <th>ar.L5.D.pm25</th> <td>   -0.4579</td> <td>    0.222</td> <td>   -2.065</td> <td> 0.039</td> <td>   -0.893</td> <td>   -0.023</td>\n",
       "</tr>\n",
       "<tr>\n",
       "  <th>ar.L6.D.pm25</th> <td>    0.1317</td> <td>    0.087</td> <td>    1.516</td> <td> 0.129</td> <td>   -0.039</td> <td>    0.302</td>\n",
       "</tr>\n",
       "<tr>\n",
       "  <th>ma.L1.D.pm25</th> <td>   -2.2765</td> <td>    0.159</td> <td>  -14.276</td> <td> 0.000</td> <td>   -2.589</td> <td>   -1.964</td>\n",
       "</tr>\n",
       "<tr>\n",
       "  <th>ma.L2.D.pm25</th> <td>    1.3337</td> <td>    0.308</td> <td>    4.324</td> <td> 0.000</td> <td>    0.729</td> <td>    1.938</td>\n",
       "</tr>\n",
       "<tr>\n",
       "  <th>ma.L3.D.pm25</th> <td>    0.3144</td> <td>    0.268</td> <td>    1.172</td> <td> 0.241</td> <td>   -0.211</td> <td>    0.840</td>\n",
       "</tr>\n",
       "<tr>\n",
       "  <th>ma.L4.D.pm25</th> <td>   -0.5582</td> <td>    0.283</td> <td>   -1.975</td> <td> 0.048</td> <td>   -1.112</td> <td>   -0.004</td>\n",
       "</tr>\n",
       "<tr>\n",
       "  <th>ma.L5.D.pm25</th> <td>    0.3644</td> <td>    0.245</td> <td>    1.485</td> <td> 0.138</td> <td>   -0.117</td> <td>    0.845</td>\n",
       "</tr>\n",
       "<tr>\n",
       "  <th>ma.L6.D.pm25</th> <td>   -0.1724</td> <td>    0.119</td> <td>   -1.446</td> <td> 0.148</td> <td>   -0.406</td> <td>    0.061</td>\n",
       "</tr>\n",
       "</table>\n",
       "<table class=\"simpletable\">\n",
       "<caption>Roots</caption>\n",
       "<tr>\n",
       "    <td></td>   <th>            Real</th>  <th>         Imaginary</th> <th>         Modulus</th>  <th>        Frequency</th>\n",
       "</tr>\n",
       "<tr>\n",
       "  <th>AR.1</th> <td>          -1.4383</td> <td>          -0.0000j</td> <td>           1.4383</td> <td>          -0.5000</td>\n",
       "</tr>\n",
       "<tr>\n",
       "  <th>AR.2</th> <td>           0.9693</td> <td>          -0.2608j</td> <td>           1.0038</td> <td>          -0.0418</td>\n",
       "</tr>\n",
       "<tr>\n",
       "  <th>AR.3</th> <td>           0.9693</td> <td>          +0.2608j</td> <td>           1.0038</td> <td>           0.0418</td>\n",
       "</tr>\n",
       "<tr>\n",
       "  <th>AR.4</th> <td>           0.6409</td> <td>          -1.6373j</td> <td>           1.7583</td> <td>          -0.1906</td>\n",
       "</tr>\n",
       "<tr>\n",
       "  <th>AR.5</th> <td>           0.6409</td> <td>          +1.6373j</td> <td>           1.7583</td> <td>           0.1906</td>\n",
       "</tr>\n",
       "<tr>\n",
       "  <th>AR.6</th> <td>           1.6944</td> <td>          -0.0000j</td> <td>           1.6944</td> <td>          -0.0000</td>\n",
       "</tr>\n",
       "<tr>\n",
       "  <th>MA.1</th> <td>          -1.4346</td> <td>          -0.0000j</td> <td>           1.4346</td> <td>          -0.5000</td>\n",
       "</tr>\n",
       "<tr>\n",
       "  <th>MA.2</th> <td>           0.9978</td> <td>          -0.2585j</td> <td>           1.0308</td> <td>          -0.0403</td>\n",
       "</tr>\n",
       "<tr>\n",
       "  <th>MA.3</th> <td>           0.9978</td> <td>          +0.2585j</td> <td>           1.0308</td> <td>           0.0403</td>\n",
       "</tr>\n",
       "<tr>\n",
       "  <th>MA.4</th> <td>           1.0458</td> <td>          -0.0000j</td> <td>           1.0458</td> <td>          -0.0000</td>\n",
       "</tr>\n",
       "<tr>\n",
       "  <th>MA.5</th> <td>           0.2530</td> <td>          -1.8904j</td> <td>           1.9072</td> <td>          -0.2288</td>\n",
       "</tr>\n",
       "<tr>\n",
       "  <th>MA.6</th> <td>           0.2530</td> <td>          +1.8904j</td> <td>           1.9072</td> <td>           0.2288</td>\n",
       "</tr>\n",
       "</table>"
      ],
      "text/plain": [
       "<class 'statsmodels.iolib.summary.Summary'>\n",
       "\"\"\"\n",
       "                             ARIMA Model Results                              \n",
       "==============================================================================\n",
       "Dep. Variable:                 D.pm25   No. Observations:                 2073\n",
       "Model:                 ARIMA(6, 1, 6)   Log Likelihood              -11048.902\n",
       "Method:                       css-mle   S.D. of innovations             49.907\n",
       "Date:                Sat, 01 May 2021   AIC                          22125.805\n",
       "Time:                        13:58:09   BIC                          22204.720\n",
       "Sample:                             1   HQIC                         22154.728\n",
       "                                                                              \n",
       "================================================================================\n",
       "                   coef    std err          z      P>|z|      [0.025      0.975]\n",
       "--------------------------------------------------------------------------------\n",
       "const           -0.1185      0.136     -0.870      0.384      -0.385       0.148\n",
       "ar.L1.D.pm25     2.2336      0.162     13.782      0.000       1.916       2.551\n",
       "ar.L2.D.pm25    -1.4576      0.306     -4.766      0.000      -2.057      -0.858\n",
       "ar.L3.D.pm25    -0.1478      0.260     -0.569      0.570      -0.657       0.362\n",
       "ar.L4.D.pm25     0.6549      0.277      2.367      0.018       0.113       1.197\n",
       "ar.L5.D.pm25    -0.4579      0.222     -2.065      0.039      -0.893      -0.023\n",
       "ar.L6.D.pm25     0.1317      0.087      1.516      0.129      -0.039       0.302\n",
       "ma.L1.D.pm25    -2.2765      0.159    -14.276      0.000      -2.589      -1.964\n",
       "ma.L2.D.pm25     1.3337      0.308      4.324      0.000       0.729       1.938\n",
       "ma.L3.D.pm25     0.3144      0.268      1.172      0.241      -0.211       0.840\n",
       "ma.L4.D.pm25    -0.5582      0.283     -1.975      0.048      -1.112      -0.004\n",
       "ma.L5.D.pm25     0.3644      0.245      1.485      0.138      -0.117       0.845\n",
       "ma.L6.D.pm25    -0.1724      0.119     -1.446      0.148      -0.406       0.061\n",
       "                                    Roots                                    \n",
       "=============================================================================\n",
       "                  Real          Imaginary           Modulus         Frequency\n",
       "-----------------------------------------------------------------------------\n",
       "AR.1           -1.4383           -0.0000j            1.4383           -0.5000\n",
       "AR.2            0.9693           -0.2608j            1.0038           -0.0418\n",
       "AR.3            0.9693           +0.2608j            1.0038            0.0418\n",
       "AR.4            0.6409           -1.6373j            1.7583           -0.1906\n",
       "AR.5            0.6409           +1.6373j            1.7583            0.1906\n",
       "AR.6            1.6944           -0.0000j            1.6944           -0.0000\n",
       "MA.1           -1.4346           -0.0000j            1.4346           -0.5000\n",
       "MA.2            0.9978           -0.2585j            1.0308           -0.0403\n",
       "MA.3            0.9978           +0.2585j            1.0308            0.0403\n",
       "MA.4            1.0458           -0.0000j            1.0458           -0.0000\n",
       "MA.5            0.2530           -1.8904j            1.9072           -0.2288\n",
       "MA.6            0.2530           +1.8904j            1.9072            0.2288\n",
       "-----------------------------------------------------------------------------\n",
       "\"\"\""
      ]
     },
     "execution_count": 10,
     "metadata": {},
     "output_type": "execute_result"
    }
   ],
   "source": [
    "from statsmodels.tsa.arima_model import ARIMA\n",
    "model=ARIMA(train,order=(6,1,6))\n",
    "model=model.fit()\n",
    "model.summary()"
   ]
  },
  {
   "cell_type": "code",
   "execution_count": 11,
   "metadata": {},
   "outputs": [
    {
     "name": "stdout",
     "output_type": "stream",
     "text": [
      "date\n",
      "2018-04-04 23:00:00    216.830079\n",
      "2018-04-05 00:00:00    206.127732\n",
      "2018-04-05 01:00:00    202.199200\n",
      "2018-04-05 02:00:00    201.231498\n",
      "2018-04-05 03:00:00    198.934513\n",
      "                          ...    \n",
      "2018-04-19 20:00:00    119.615917\n",
      "2018-04-19 21:00:00    115.576565\n",
      "2018-04-19 22:00:00    111.485875\n",
      "2018-04-19 23:00:00    107.616020\n",
      "2018-04-20 00:00:00    104.222001\n",
      "Name: ARIMA predictions, Length: 300, dtype: float64\n"
     ]
    },
    {
     "name": "stderr",
     "output_type": "stream",
     "text": [
      "D:\\Anaconda3\\lib\\site-packages\\statsmodels\\tsa\\base\\tsa_model.py:376: ValueWarning: No supported index is available. Prediction results will be given with an integer index beginning at `start`.\n",
      "  warnings.warn('No supported index is available.'\n",
      "D:\\Anaconda3\\lib\\site-packages\\statsmodels\\tsa\\base\\tsa_model.py:376: ValueWarning: No supported index is available. Prediction results will be given with an integer index beginning at `start`.\n",
      "  warnings.warn('No supported index is available.'\n"
     ]
    }
   ],
   "source": [
    "start=len(train)\n",
    "end=len(train)+len(test)-1\n",
    "#if the predicted values dont have date values as index, you will have to uncomment the following two commented lines to plot a graph\n",
    "#index_future_dates=pd.date_range(start='2018-12-01',end='2018-12-30')\n",
    "pred=model.predict(start=start,end=end,typ='levels').rename('ARIMA predictions')\n",
    "pred.index=df.index[start:end+1]\n",
    "print(pred)"
   ]
  },
  {
   "cell_type": "code",
   "execution_count": 12,
   "metadata": {},
   "outputs": [
    {
     "data": {
      "text/plain": [
       "<AxesSubplot:xlabel='date'>"
      ]
     },
     "execution_count": 12,
     "metadata": {},
     "output_type": "execute_result"
    },
    {
     "data": {
      "image/png": "[encoded data removed]",
      "text/plain": [
       "<Figure size 432x288 with 1 Axes>"
      ]
     },
     "metadata": {
      "needs_background": "light"
     },
     "output_type": "display_data"
    },
    {
     "data": {
      "image/png": "[encoded data removed]",
      "text/plain": [
       "<Figure size 432x288 with 1 Axes>"
      ]
     },
     "metadata": {
      "needs_background": "light"
     },
     "output_type": "display_data"
    }
   ],
   "source": [
    "pred.plot(legend=True)\n",
    "test.plot(legend=True)"
   ]
  },
  {
   "cell_type": "code",
   "execution_count": 13,
   "metadata": {},
   "outputs": [
    {
     "name": "stdout",
     "output_type": "stream",
     "text": [
      "93.93717567435434\n"
     ]
    }
   ],
   "source": [
    "from sklearn.metrics import mean_squared_error\n",
    "from math import sqrt\n",
    "rmse=sqrt(mean_squared_error(pred,test))\n",
    "print(rmse)"
   ]
  },
  {
   "cell_type": "code",
   "execution_count": 14,
   "metadata": {},
   "outputs": [
    {
     "name": "stderr",
     "output_type": "stream",
     "text": [
      "D:\\Anaconda3\\lib\\site-packages\\statsmodels\\tsa\\arima_model.py:472: FutureWarning: \n",
      "statsmodels.tsa.arima_model.ARMA and statsmodels.tsa.arima_model.ARIMA have\n",
      "been deprecated in favor of statsmodels.tsa.arima.model.ARIMA (note the .\n",
      "between arima and model) and\n",
      "statsmodels.tsa.SARIMAX. These will be removed after the 0.12 release.\n",
      "\n",
      "statsmodels.tsa.arima.model.ARIMA makes use of the statespace framework and\n",
      "is both well tested and maintained.\n",
      "\n",
      "To silence this warning and continue using ARMA and ARIMA until they are\n",
      "removed, use:\n",
      "\n",
      "import warnings\n",
      "warnings.filterwarnings('ignore', 'statsmodels.tsa.arima_model.ARMA',\n",
      "                        FutureWarning)\n",
      "warnings.filterwarnings('ignore', 'statsmodels.tsa.arima_model.ARIMA',\n",
      "                        FutureWarning)\n",
      "\n",
      "  warnings.warn(ARIMA_DEPRECATION_WARN, FutureWarning)\n",
      "D:\\Anaconda3\\lib\\site-packages\\statsmodels\\tsa\\base\\tsa_model.py:581: ValueWarning: A date index has been provided, but it has no associated frequency information and so will be ignored when e.g. forecasting.\n",
      "  warnings.warn('A date index has been provided, but it has no'\n",
      "D:\\Anaconda3\\lib\\site-packages\\statsmodels\\tsa\\base\\tsa_model.py:581: ValueWarning: A date index has been provided, but it has no associated frequency information and so will be ignored when e.g. forecasting.\n",
      "  warnings.warn('A date index has been provided, but it has no'\n",
      "D:\\Anaconda3\\lib\\site-packages\\statsmodels\\base\\model.py:547: HessianInversionWarning: Inverting hessian failed, no bse or cov_params available\n",
      "  warnings.warn('Inverting hessian failed, no bse or cov_params '\n",
      "D:\\Anaconda3\\lib\\site-packages\\statsmodels\\base\\model.py:566: ConvergenceWarning: Maximum Likelihood optimization failed to converge. Check mle_retvals\n",
      "  warnings.warn(\"Maximum Likelihood optimization failed to \"\n",
      "D:\\Anaconda3\\lib\\site-packages\\statsmodels\\tsa\\arima_model.py:472: FutureWarning: \n",
      "statsmodels.tsa.arima_model.ARMA and statsmodels.tsa.arima_model.ARIMA have\n",
      "been deprecated in favor of statsmodels.tsa.arima.model.ARIMA (note the .\n",
      "between arima and model) and\n",
      "statsmodels.tsa.SARIMAX. These will be removed after the 0.12 release.\n",
      "\n",
      "statsmodels.tsa.arima.model.ARIMA makes use of the statespace framework and\n",
      "is both well tested and maintained.\n",
      "\n",
      "To silence this warning and continue using ARMA and ARIMA until they are\n",
      "removed, use:\n",
      "\n",
      "import warnings\n",
      "warnings.filterwarnings('ignore', 'statsmodels.tsa.arima_model.ARMA',\n",
      "                        FutureWarning)\n",
      "warnings.filterwarnings('ignore', 'statsmodels.tsa.arima_model.ARIMA',\n",
      "                        FutureWarning)\n",
      "\n",
      "  warnings.warn(ARIMA_DEPRECATION_WARN, FutureWarning)\n"
     ]
    }
   ],
   "source": [
    "model2=ARIMA(df,order=(6,1,6))\n",
    "model2=model2.fit()"
   ]
  },
  {
   "cell_type": "code",
   "execution_count": 15,
   "metadata": {},
   "outputs": [
    {
     "data": {
      "text/html": [
       "<div>\n",
       "<style scoped>\n",
       "    .dataframe tbody tr th:only-of-type {\n",
       "        vertical-align: middle;\n",
       "    }\n",
       "\n",
       "    .dataframe tbody tr th {\n",
       "        vertical-align: top;\n",
       "    }\n",
       "\n",
       "    .dataframe thead th {\n",
       "        text-align: right;\n",
       "    }\n",
       "</style>\n",
       "<table border=\"1\" class=\"dataframe\">\n",
       "  <thead>\n",
       "    <tr style=\"text-align: right;\">\n",
       "      <th></th>\n",
       "      <th>pm25</th>\n",
       "    </tr>\n",
       "    <tr>\n",
       "      <th>date</th>\n",
       "      <th></th>\n",
       "    </tr>\n",
       "  </thead>\n",
       "  <tbody>\n",
       "    <tr>\n",
       "      <th>2018-04-19 20:00:00</th>\n",
       "      <td>57.0</td>\n",
       "    </tr>\n",
       "    <tr>\n",
       "      <th>2018-04-19 21:00:00</th>\n",
       "      <td>57.0</td>\n",
       "    </tr>\n",
       "    <tr>\n",
       "      <th>2018-04-19 22:00:00</th>\n",
       "      <td>75.0</td>\n",
       "    </tr>\n",
       "    <tr>\n",
       "      <th>2018-04-19 23:00:00</th>\n",
       "      <td>89.0</td>\n",
       "    </tr>\n",
       "    <tr>\n",
       "      <th>2018-04-20 00:00:00</th>\n",
       "      <td>92.0</td>\n",
       "    </tr>\n",
       "  </tbody>\n",
       "</table>\n",
       "</div>"
      ],
      "text/plain": [
       "                     pm25\n",
       "date                     \n",
       "2018-04-19 20:00:00  57.0\n",
       "2018-04-19 21:00:00  57.0\n",
       "2018-04-19 22:00:00  75.0\n",
       "2018-04-19 23:00:00  89.0\n",
       "2018-04-20 00:00:00  92.0"
      ]
     },
     "execution_count": 15,
     "metadata": {},
     "output_type": "execute_result"
    }
   ],
   "source": [
    "df.tail()"
   ]
  },
  {
   "cell_type": "code",
   "execution_count": 16,
   "metadata": {},
   "outputs": [
    {
     "name": "stdout",
     "output_type": "stream",
     "text": [
      "2018-04-20 01:00:00     96.881688\n",
      "2018-04-20 02:00:00    100.087236\n",
      "2018-04-20 03:00:00    101.859529\n",
      "2018-04-20 04:00:00    102.010507\n",
      "2018-04-20 05:00:00    100.626777\n",
      "2018-04-20 06:00:00     98.198876\n",
      "2018-04-20 07:00:00     95.141189\n",
      "2018-04-20 08:00:00     91.767886\n",
      "2018-04-20 09:00:00     88.302711\n",
      "2018-04-20 10:00:00     84.984083\n",
      "2018-04-20 11:00:00     82.043570\n",
      "2018-04-20 12:00:00     79.691368\n",
      "2018-04-20 13:00:00     78.082346\n",
      "2018-04-20 14:00:00     77.314213\n",
      "2018-04-20 15:00:00     77.422488\n",
      "2018-04-20 16:00:00     78.383871\n",
      "2018-04-20 17:00:00     80.116481\n",
      "2018-04-20 18:00:00     82.486452\n",
      "2018-04-20 19:00:00     85.316744\n",
      "2018-04-20 20:00:00     88.400406\n",
      "2018-04-20 21:00:00     91.514951\n",
      "2018-04-20 22:00:00     94.437989\n",
      "2018-04-20 23:00:00     96.962302\n",
      "2018-04-21 00:00:00     98.909959\n",
      "Freq: H, Name: ARIMA Predictions, dtype: float64\n"
     ]
    },
    {
     "name": "stderr",
     "output_type": "stream",
     "text": [
      "D:\\Anaconda3\\lib\\site-packages\\statsmodels\\tsa\\base\\tsa_model.py:376: ValueWarning: No supported index is available. Prediction results will be given with an integer index beginning at `start`.\n",
      "  warnings.warn('No supported index is available.'\n",
      "D:\\Anaconda3\\lib\\site-packages\\statsmodels\\tsa\\base\\tsa_model.py:376: ValueWarning: No supported index is available. Prediction results will be given with an integer index beginning at `start`.\n",
      "  warnings.warn('No supported index is available.'\n"
     ]
    }
   ],
   "source": [
    "index_future_dates=pd.date_range(start='2018-04-20 01:00:00',periods=24,freq='H')\n",
    "pred=model2.predict(start=len(df),end=len(df)+23,typ='levels').rename('ARIMA Predictions')\n",
    "pred.index=index_future_dates\n",
    "print(pred)"
   ]
  },
  {
   "cell_type": "code",
   "execution_count": 17,
   "metadata": {},
   "outputs": [
    {
     "data": {
      "text/plain": [
       "24"
      ]
     },
     "execution_count": 17,
     "metadata": {},
     "output_type": "execute_result"
    }
   ],
   "source": [
    "len(pred)"
   ]
  },
  {
   "cell_type": "markdown",
   "metadata": {},
   "source": [
    "# dumping data"
   ]
  },
  {
   "cell_type": "code",
   "execution_count": 18,
   "metadata": {},
   "outputs": [],
   "source": [
    "import pickle"
   ]
  },
  {
   "cell_type": "code",
   "execution_count": 19,
   "metadata": {},
   "outputs": [],
   "source": [
    "pickle.dump(model2,open('model.p','wb'))"
   ]
  },
  {
   "cell_type": "code",
   "execution_count": null,
   "metadata": {},
   "outputs": [],
   "source": []
  }
 ],
 "metadata": {
  "kernelspec": {
   "display_name": "Python 3",
   "language": "python",
   "name": "python3"
  },
  "language_info": {
   "codemirror_mode": {
    "name": "ipython",
    "version": 3
   },
   "file_extension": ".py",
   "mimetype": "text/x-python",
   "name": "python",
   "nbconvert_exporter": "python",
   "pygments_lexer": "ipython3",
   "version": "3.8.5"
  }
 },
 "nbformat": 4,
 "nbformat_minor": 4
}
